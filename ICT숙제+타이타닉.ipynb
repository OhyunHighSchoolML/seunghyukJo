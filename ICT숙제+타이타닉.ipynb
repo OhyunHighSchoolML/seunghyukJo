{
  "nbformat": 4,
  "nbformat_minor": 0,
  "metadata": {
    "colab": {
      "name": "ICT숙제+타이타닉",
      "provenance": [],
      "collapsed_sections": []
    },
    "kernelspec": {
      "name": "python3",
      "display_name": "Python 3"
    }
  },
  "cells": [
    {
      "cell_type": "code",
      "metadata": {
        "id": "USfXtQjM1dIO",
        "colab_type": "code",
        "colab": {}
      },
      "source": [
        "import os\n",
        "from bs4 import BeautifulSoup as bs\n",
        "from urllib.request import urlopen\n",
        "from urllib.parse import quote_plus"
      ],
      "execution_count": null,
      "outputs": []
    },
    {
      "cell_type": "code",
      "metadata": {
        "id": "c_M05URj2dH6",
        "colab_type": "code",
        "colab": {}
      },
      "source": [
        "def image_down(crawl_num, plusUrl):\n",
        "\n",
        "    baseUrl = 'https://search.naver.com/search.naver?where=image&sm=tab_jum&query='\n",
        "    url = baseUrl + quote_plus(plusUrl)\n",
        "    html = urlopen(url)\n",
        "    soup = bs(html, \"html.parser\")\n",
        "    img = soup.find_all(class_='_img')\n",
        "    n=1\n",
        "    path = './'+plusUrl\n",
        "    os.makedirs(path, exist_ok=True)\n",
        "    for i in img:\n",
        "        print(n,\"번째 이미지 다운로드\")\n",
        "        imgUrl = i['data-source']\n",
        "        with urlopen(imgUrl) as f:\n",
        "            with open(path+'/' + str(n)+'.jpg','wb') as h:\n",
        "                img = f.read()\n",
        "                h.write(img)\n",
        "        n += 1\n",
        "        if n > crawl_num:\n",
        "            break"
      ],
      "execution_count": null,
      "outputs": []
    },
    {
      "cell_type": "code",
      "metadata": {
        "id": "Kc4lysWJ2g8r",
        "colab_type": "code",
        "colab": {
          "base_uri": "https://localhost:8080/",
          "height": 917
        },
        "outputId": "8ea9b01c-7d7b-4966-d3e8-6eb43f70097d"
      },
      "source": [
        "image_down(50,\"팥죽\")"
      ],
      "execution_count": null,
      "outputs": [
        {
          "output_type": "stream",
          "text": [
            "1 번째 이미지 다운로드\n",
            "2 번째 이미지 다운로드\n",
            "3 번째 이미지 다운로드\n",
            "4 번째 이미지 다운로드\n",
            "5 번째 이미지 다운로드\n",
            "6 번째 이미지 다운로드\n",
            "7 번째 이미지 다운로드\n",
            "8 번째 이미지 다운로드\n",
            "9 번째 이미지 다운로드\n",
            "10 번째 이미지 다운로드\n",
            "11 번째 이미지 다운로드\n",
            "12 번째 이미지 다운로드\n",
            "13 번째 이미지 다운로드\n",
            "14 번째 이미지 다운로드\n",
            "15 번째 이미지 다운로드\n",
            "16 번째 이미지 다운로드\n",
            "17 번째 이미지 다운로드\n",
            "18 번째 이미지 다운로드\n",
            "19 번째 이미지 다운로드\n",
            "20 번째 이미지 다운로드\n",
            "21 번째 이미지 다운로드\n",
            "22 번째 이미지 다운로드\n",
            "23 번째 이미지 다운로드\n",
            "24 번째 이미지 다운로드\n",
            "25 번째 이미지 다운로드\n",
            "26 번째 이미지 다운로드\n",
            "27 번째 이미지 다운로드\n",
            "28 번째 이미지 다운로드\n",
            "29 번째 이미지 다운로드\n",
            "30 번째 이미지 다운로드\n",
            "31 번째 이미지 다운로드\n",
            "32 번째 이미지 다운로드\n",
            "33 번째 이미지 다운로드\n",
            "34 번째 이미지 다운로드\n",
            "35 번째 이미지 다운로드\n",
            "36 번째 이미지 다운로드\n",
            "37 번째 이미지 다운로드\n",
            "38 번째 이미지 다운로드\n",
            "39 번째 이미지 다운로드\n",
            "40 번째 이미지 다운로드\n",
            "41 번째 이미지 다운로드\n",
            "42 번째 이미지 다운로드\n",
            "43 번째 이미지 다운로드\n",
            "44 번째 이미지 다운로드\n",
            "45 번째 이미지 다운로드\n",
            "46 번째 이미지 다운로드\n",
            "47 번째 이미지 다운로드\n",
            "48 번째 이미지 다운로드\n",
            "49 번째 이미지 다운로드\n",
            "50 번째 이미지 다운로드\n"
          ],
          "name": "stdout"
        }
      ]
    },
    {
      "cell_type": "code",
      "metadata": {
        "id": "ojObJCDCBLlB",
        "colab_type": "code",
        "colab": {
          "base_uri": "https://localhost:8080/",
          "height": 917
        },
        "outputId": "3fd723b1-6768-4a11-be8a-a94024886fe5"
      },
      "source": [
        "image_down(50,\"팥빙수\")"
      ],
      "execution_count": null,
      "outputs": [
        {
          "output_type": "stream",
          "text": [
            "1 번째 이미지 다운로드\n",
            "2 번째 이미지 다운로드\n",
            "3 번째 이미지 다운로드\n",
            "4 번째 이미지 다운로드\n",
            "5 번째 이미지 다운로드\n",
            "6 번째 이미지 다운로드\n",
            "7 번째 이미지 다운로드\n",
            "8 번째 이미지 다운로드\n",
            "9 번째 이미지 다운로드\n",
            "10 번째 이미지 다운로드\n",
            "11 번째 이미지 다운로드\n",
            "12 번째 이미지 다운로드\n",
            "13 번째 이미지 다운로드\n",
            "14 번째 이미지 다운로드\n",
            "15 번째 이미지 다운로드\n",
            "16 번째 이미지 다운로드\n",
            "17 번째 이미지 다운로드\n",
            "18 번째 이미지 다운로드\n",
            "19 번째 이미지 다운로드\n",
            "20 번째 이미지 다운로드\n",
            "21 번째 이미지 다운로드\n",
            "22 번째 이미지 다운로드\n",
            "23 번째 이미지 다운로드\n",
            "24 번째 이미지 다운로드\n",
            "25 번째 이미지 다운로드\n",
            "26 번째 이미지 다운로드\n",
            "27 번째 이미지 다운로드\n",
            "28 번째 이미지 다운로드\n",
            "29 번째 이미지 다운로드\n",
            "30 번째 이미지 다운로드\n",
            "31 번째 이미지 다운로드\n",
            "32 번째 이미지 다운로드\n",
            "33 번째 이미지 다운로드\n",
            "34 번째 이미지 다운로드\n",
            "35 번째 이미지 다운로드\n",
            "36 번째 이미지 다운로드\n",
            "37 번째 이미지 다운로드\n",
            "38 번째 이미지 다운로드\n",
            "39 번째 이미지 다운로드\n",
            "40 번째 이미지 다운로드\n",
            "41 번째 이미지 다운로드\n",
            "42 번째 이미지 다운로드\n",
            "43 번째 이미지 다운로드\n",
            "44 번째 이미지 다운로드\n",
            "45 번째 이미지 다운로드\n",
            "46 번째 이미지 다운로드\n",
            "47 번째 이미지 다운로드\n",
            "48 번째 이미지 다운로드\n",
            "49 번째 이미지 다운로드\n",
            "50 번째 이미지 다운로드\n"
          ],
          "name": "stdout"
        }
      ]
    },
    {
      "cell_type": "code",
      "metadata": {
        "id": "vXGxefyqEoRY",
        "colab_type": "code",
        "colab": {}
      },
      "source": [
        ""
      ],
      "execution_count": null,
      "outputs": []
    },
    {
      "cell_type": "code",
      "metadata": {
        "id": "dcf6jZz6BjpC",
        "colab_type": "code",
        "colab": {
          "base_uri": "https://localhost:8080/",
          "height": 1000
        },
        "outputId": "3adcc618-78a5-45ae-dd84-5cdb66977a86"
      },
      "source": [
        "!zip -r /content/팥죽.Zip /content/팥죽\n",
        "!zip -r /content/팥빙수.Zip /content/팥빙수"
      ],
      "execution_count": null,
      "outputs": [
        {
          "output_type": "stream",
          "text": [
            "  adding: content/팥죽/ (stored 0%)\n",
            "  adding: content/팥죽/31.jpg (deflated 0%)\n",
            "  adding: content/팥죽/37.jpg (deflated 0%)\n",
            "  adding: content/팥죽/46.jpg (deflated 0%)\n",
            "  adding: content/팥죽/29.jpg (deflated 0%)\n",
            "  adding: content/팥죽/9.jpg (deflated 0%)\n",
            "  adding: content/팥죽/32.jpg (deflated 1%)\n",
            "  adding: content/팥죽/33.jpg (deflated 0%)\n",
            "  adding: content/팥죽/21.jpg (deflated 2%)\n",
            "  adding: content/팥죽/16.jpg (deflated 0%)\n",
            "  adding: content/팥죽/2.jpg (deflated 0%)\n",
            "  adding: content/팥죽/17.jpg (deflated 0%)\n",
            "  adding: content/팥죽/38.jpg (deflated 0%)\n",
            "  adding: content/팥죽/23.jpg (deflated 0%)\n",
            "  adding: content/팥죽/50.jpg (deflated 0%)\n",
            "  adding: content/팥죽/39.jpg (deflated 0%)\n",
            "  adding: content/팥죽/12.jpg (deflated 0%)\n",
            "  adding: content/팥죽/48.jpg (deflated 0%)\n",
            "  adding: content/팥죽/44.jpg (deflated 0%)\n",
            "  adding: content/팥죽/20.jpg (deflated 0%)\n",
            "  adding: content/팥죽/7.jpg (deflated 0%)\n",
            "  adding: content/팥죽/8.jpg (deflated 0%)\n",
            "  adding: content/팥죽/34.jpg (deflated 0%)\n",
            "  adding: content/팥죽/49.jpg (deflated 0%)\n",
            "  adding: content/팥죽/26.jpg (deflated 0%)\n",
            "  adding: content/팥죽/43.jpg (deflated 0%)\n",
            "  adding: content/팥죽/14.jpg (deflated 0%)\n",
            "  adding: content/팥죽/13.jpg (deflated 0%)\n",
            "  adding: content/팥죽/18.jpg (deflated 0%)\n",
            "  adding: content/팥죽/28.jpg (deflated 0%)\n",
            "  adding: content/팥죽/3.jpg (deflated 0%)\n",
            "  adding: content/팥죽/11.jpg (deflated 0%)\n",
            "  adding: content/팥죽/1.jpg (deflated 0%)\n",
            "  adding: content/팥죽/22.jpg (deflated 0%)\n",
            "  adding: content/팥죽/42.jpg (deflated 0%)\n",
            "  adding: content/팥죽/30.jpg (deflated 0%)\n",
            "  adding: content/팥죽/45.jpg (deflated 0%)\n",
            "  adding: content/팥죽/40.jpg (deflated 0%)\n",
            "  adding: content/팥죽/27.jpg (deflated 0%)\n",
            "  adding: content/팥죽/4.jpg (deflated 0%)\n",
            "  adding: content/팥죽/5.jpg (deflated 0%)\n",
            "  adding: content/팥죽/25.jpg (deflated 0%)\n",
            "  adding: content/팥죽/35.jpg (deflated 0%)\n",
            "  adding: content/팥죽/6.jpg (deflated 0%)\n",
            "  adding: content/팥죽/47.jpg (deflated 0%)\n",
            "  adding: content/팥죽/15.jpg (deflated 0%)\n",
            "  adding: content/팥죽/19.jpg (deflated 0%)\n",
            "  adding: content/팥죽/24.jpg (deflated 0%)\n",
            "  adding: content/팥죽/10.jpg (deflated 0%)\n",
            "  adding: content/팥죽/41.jpg (deflated 0%)\n",
            "  adding: content/팥죽/36.jpg (deflated 0%)\n",
            "  adding: content/팥빙수/ (stored 0%)\n",
            "  adding: content/팥빙수/31.jpg (deflated 2%)\n",
            "  adding: content/팥빙수/37.jpg (deflated 3%)\n",
            "  adding: content/팥빙수/46.jpg (deflated 0%)\n",
            "  adding: content/팥빙수/29.jpg (deflated 0%)\n",
            "  adding: content/팥빙수/9.jpg (deflated 0%)\n",
            "  adding: content/팥빙수/32.jpg (deflated 0%)\n",
            "  adding: content/팥빙수/33.jpg (deflated 3%)\n",
            "  adding: content/팥빙수/21.jpg (deflated 0%)\n",
            "  adding: content/팥빙수/16.jpg (deflated 2%)\n",
            "  adding: content/팥빙수/2.jpg (deflated 0%)\n",
            "  adding: content/팥빙수/17.jpg (deflated 3%)\n",
            "  adding: content/팥빙수/38.jpg (deflated 0%)\n",
            "  adding: content/팥빙수/23.jpg (deflated 4%)\n",
            "  adding: content/팥빙수/50.jpg (deflated 7%)\n",
            "  adding: content/팥빙수/39.jpg (deflated 0%)\n",
            "  adding: content/팥빙수/12.jpg (deflated 0%)\n",
            "  adding: content/팥빙수/48.jpg (deflated 4%)\n",
            "  adding: content/팥빙수/44.jpg (deflated 0%)\n",
            "  adding: content/팥빙수/20.jpg (deflated 0%)\n",
            "  adding: content/팥빙수/7.jpg (deflated 0%)\n",
            "  adding: content/팥빙수/8.jpg (deflated 0%)\n",
            "  adding: content/팥빙수/34.jpg (deflated 0%)\n",
            "  adding: content/팥빙수/49.jpg (deflated 0%)\n",
            "  adding: content/팥빙수/26.jpg (deflated 0%)\n",
            "  adding: content/팥빙수/43.jpg (deflated 0%)\n",
            "  adding: content/팥빙수/14.jpg (deflated 0%)\n",
            "  adding: content/팥빙수/13.jpg (deflated 0%)\n",
            "  adding: content/팥빙수/18.jpg (deflated 0%)\n",
            "  adding: content/팥빙수/28.jpg (deflated 0%)\n",
            "  adding: content/팥빙수/3.jpg (deflated 0%)\n",
            "  adding: content/팥빙수/11.jpg (deflated 0%)\n",
            "  adding: content/팥빙수/1.jpg (deflated 0%)\n",
            "  adding: content/팥빙수/22.jpg (deflated 0%)\n",
            "  adding: content/팥빙수/42.jpg (deflated 1%)\n",
            "  adding: content/팥빙수/30.jpg (deflated 0%)\n",
            "  adding: content/팥빙수/45.jpg (deflated 0%)\n",
            "  adding: content/팥빙수/40.jpg (deflated 0%)\n",
            "  adding: content/팥빙수/27.jpg (deflated 0%)\n",
            "  adding: content/팥빙수/4.jpg (deflated 0%)\n",
            "  adding: content/팥빙수/5.jpg (deflated 0%)\n",
            "  adding: content/팥빙수/25.jpg (deflated 0%)\n",
            "  adding: content/팥빙수/35.jpg (deflated 0%)\n",
            "  adding: content/팥빙수/6.jpg (deflated 0%)\n",
            "  adding: content/팥빙수/47.jpg (deflated 0%)\n",
            "  adding: content/팥빙수/15.jpg (deflated 0%)\n",
            "  adding: content/팥빙수/19.jpg (deflated 0%)\n",
            "  adding: content/팥빙수/24.jpg (deflated 0%)\n",
            "  adding: content/팥빙수/10.jpg (deflated 6%)\n",
            "  adding: content/팥빙수/41.jpg (deflated 0%)\n",
            "  adding: content/팥빙수/36.jpg (deflated 3%)\n"
          ],
          "name": "stdout"
        }
      ]
    },
    {
      "cell_type": "code",
      "metadata": {
        "id": "FtURiX4sFFiP",
        "colab_type": "code",
        "colab": {
          "base_uri": "https://localhost:8080/",
          "height": 935
        },
        "outputId": "9e7b518b-c80e-4d35-af9c-089b6dd04399"
      },
      "source": [
        "!zip -r /content/고양이.Zip /content/고양이"
      ],
      "execution_count": null,
      "outputs": [
        {
          "output_type": "stream",
          "text": [
            "updating: content/고양이/ (stored 0%)\n",
            "updating: content/고양이/31.jpg (deflated 0%)\n",
            "updating: content/고양이/37.jpg (deflated 0%)\n",
            "updating: content/고양이/46.jpg (deflated 0%)\n",
            "updating: content/고양이/29.jpg (deflated 0%)\n",
            "updating: content/고양이/9.jpg (deflated 3%)\n",
            "updating: content/고양이/32.jpg (deflated 0%)\n",
            "updating: content/고양이/33.jpg (deflated 0%)\n",
            "updating: content/고양이/21.jpg (deflated 2%)\n",
            "updating: content/고양이/16.jpg (deflated 0%)\n",
            "updating: content/고양이/2.jpg (deflated 0%)\n",
            "updating: content/고양이/17.jpg (deflated 0%)\n",
            "updating: content/고양이/38.jpg (deflated 0%)\n",
            "updating: content/고양이/23.jpg (deflated 0%)\n",
            "updating: content/고양이/50.jpg (deflated 0%)\n",
            "updating: content/고양이/39.jpg (deflated 0%)\n",
            "updating: content/고양이/12.jpg (deflated 3%)\n",
            "updating: content/고양이/48.jpg (deflated 0%)\n",
            "updating: content/고양이/44.jpg (deflated 0%)\n",
            "updating: content/고양이/20.jpg (deflated 0%)\n",
            "updating: content/고양이/7.jpg (deflated 0%)\n",
            "updating: content/고양이/8.jpg (deflated 0%)\n",
            "updating: content/고양이/34.jpg (deflated 0%)\n",
            "updating: content/고양이/49.jpg (deflated 0%)\n",
            "updating: content/고양이/26.jpg (deflated 0%)\n",
            "updating: content/고양이/43.jpg (deflated 0%)\n",
            "updating: content/고양이/14.jpg (deflated 0%)\n",
            "updating: content/고양이/13.jpg (deflated 0%)\n",
            "updating: content/고양이/18.jpg (deflated 0%)\n",
            "updating: content/고양이/28.jpg (deflated 0%)\n",
            "updating: content/고양이/3.jpg (deflated 0%)\n",
            "updating: content/고양이/11.jpg (deflated 0%)\n",
            "updating: content/고양이/1.jpg (deflated 0%)\n",
            "updating: content/고양이/22.jpg (deflated 0%)\n",
            "updating: content/고양이/42.jpg (deflated 0%)\n",
            "updating: content/고양이/30.jpg (deflated 0%)\n",
            "updating: content/고양이/45.jpg (deflated 0%)\n",
            "updating: content/고양이/40.jpg (deflated 2%)\n",
            "updating: content/고양이/27.jpg (deflated 0%)\n",
            "updating: content/고양이/4.jpg (deflated 0%)\n",
            "updating: content/고양이/5.jpg (deflated 0%)\n",
            "updating: content/고양이/25.jpg (deflated 0%)\n",
            "updating: content/고양이/35.jpg (deflated 0%)\n",
            "updating: content/고양이/6.jpg (deflated 0%)\n",
            "updating: content/고양이/47.jpg (deflated 0%)\n",
            "updating: content/고양이/15.jpg (deflated 0%)\n",
            "updating: content/고양이/19.jpg (deflated 0%)\n",
            "updating: content/고양이/24.jpg (deflated 1%)\n",
            "updating: content/고양이/10.jpg (deflated 5%)\n",
            "updating: content/고양이/41.jpg (deflated 0%)\n",
            "updating: content/고양이/36.jpg (deflated 0%)\n"
          ],
          "name": "stdout"
        }
      ]
    },
    {
      "cell_type": "code",
      "metadata": {
        "id": "pv0mSolGCLE0",
        "colab_type": "code",
        "colab": {}
      },
      "source": [
        "import numpy as np\n",
        "import pandas as pd\n"
      ],
      "execution_count": 2,
      "outputs": []
    },
    {
      "cell_type": "code",
      "metadata": {
        "id": "kujlUMA-YHf4",
        "colab_type": "code",
        "colab": {}
      },
      "source": [
        "train_df= pd.read_csv('/content/train.csv')\n",
        "test_df= pd.read_csv('/content/test.csv')"
      ],
      "execution_count": 4,
      "outputs": []
    },
    {
      "cell_type": "code",
      "metadata": {
        "id": "KPiyBTT8YgkU",
        "colab_type": "code",
        "colab": {
          "base_uri": "https://localhost:8080/",
          "height": 359
        },
        "outputId": "fe70ccd9-3a7e-4b55-95ba-89f31564a894"
      },
      "source": [
        "train_df.info()"
      ],
      "execution_count": 6,
      "outputs": [
        {
          "output_type": "stream",
          "text": [
            "<class 'pandas.core.frame.DataFrame'>\n",
            "RangeIndex: 891 entries, 0 to 890\n",
            "Data columns (total 12 columns):\n",
            " #   Column       Non-Null Count  Dtype  \n",
            "---  ------       --------------  -----  \n",
            " 0   PassengerId  891 non-null    int64  \n",
            " 1   Survived     891 non-null    int64  \n",
            " 2   Pclass       891 non-null    int64  \n",
            " 3   Name         891 non-null    object \n",
            " 4   Sex          891 non-null    object \n",
            " 5   Age          714 non-null    float64\n",
            " 6   SibSp        891 non-null    int64  \n",
            " 7   Parch        891 non-null    int64  \n",
            " 8   Ticket       891 non-null    object \n",
            " 9   Fare         891 non-null    float64\n",
            " 10  Cabin        204 non-null    object \n",
            " 11  Embarked     889 non-null    object \n",
            "dtypes: float64(2), int64(5), object(5)\n",
            "memory usage: 83.7+ KB\n"
          ],
          "name": "stdout"
        }
      ]
    },
    {
      "cell_type": "code",
      "metadata": {
        "id": "44Yyy4woY43t",
        "colab_type": "code",
        "colab": {
          "base_uri": "https://localhost:8080/",
          "height": 341
        },
        "outputId": "79fb64bb-f66b-43c7-c64d-ea02d44f30f3"
      },
      "source": [
        "test_df.info()"
      ],
      "execution_count": 7,
      "outputs": [
        {
          "output_type": "stream",
          "text": [
            "<class 'pandas.core.frame.DataFrame'>\n",
            "RangeIndex: 418 entries, 0 to 417\n",
            "Data columns (total 11 columns):\n",
            " #   Column       Non-Null Count  Dtype  \n",
            "---  ------       --------------  -----  \n",
            " 0   PassengerId  418 non-null    int64  \n",
            " 1   Pclass       418 non-null    int64  \n",
            " 2   Name         418 non-null    object \n",
            " 3   Sex          418 non-null    object \n",
            " 4   Age          332 non-null    float64\n",
            " 5   SibSp        418 non-null    int64  \n",
            " 6   Parch        418 non-null    int64  \n",
            " 7   Ticket       418 non-null    object \n",
            " 8   Fare         417 non-null    float64\n",
            " 9   Cabin        91 non-null     object \n",
            " 10  Embarked     418 non-null    object \n",
            "dtypes: float64(2), int64(4), object(5)\n",
            "memory usage: 36.0+ KB\n"
          ],
          "name": "stdout"
        }
      ]
    },
    {
      "cell_type": "code",
      "metadata": {
        "id": "O9jQBO50Y8vu",
        "colab_type": "code",
        "colab": {
          "base_uri": "https://localhost:8080/",
          "height": 297
        },
        "outputId": "7bfd582c-b2df-4b50-ea4d-76893c3d5b2f"
      },
      "source": [
        "train_df.describe()\n"
      ],
      "execution_count": 8,
      "outputs": [
        {
          "output_type": "execute_result",
          "data": {
            "text/html": [
              "<div>\n",
              "<style scoped>\n",
              "    .dataframe tbody tr th:only-of-type {\n",
              "        vertical-align: middle;\n",
              "    }\n",
              "\n",
              "    .dataframe tbody tr th {\n",
              "        vertical-align: top;\n",
              "    }\n",
              "\n",
              "    .dataframe thead th {\n",
              "        text-align: right;\n",
              "    }\n",
              "</style>\n",
              "<table border=\"1\" class=\"dataframe\">\n",
              "  <thead>\n",
              "    <tr style=\"text-align: right;\">\n",
              "      <th></th>\n",
              "      <th>PassengerId</th>\n",
              "      <th>Survived</th>\n",
              "      <th>Pclass</th>\n",
              "      <th>Age</th>\n",
              "      <th>SibSp</th>\n",
              "      <th>Parch</th>\n",
              "      <th>Fare</th>\n",
              "    </tr>\n",
              "  </thead>\n",
              "  <tbody>\n",
              "    <tr>\n",
              "      <th>count</th>\n",
              "      <td>891.000000</td>\n",
              "      <td>891.000000</td>\n",
              "      <td>891.000000</td>\n",
              "      <td>714.000000</td>\n",
              "      <td>891.000000</td>\n",
              "      <td>891.000000</td>\n",
              "      <td>891.000000</td>\n",
              "    </tr>\n",
              "    <tr>\n",
              "      <th>mean</th>\n",
              "      <td>446.000000</td>\n",
              "      <td>0.383838</td>\n",
              "      <td>2.308642</td>\n",
              "      <td>29.699118</td>\n",
              "      <td>0.523008</td>\n",
              "      <td>0.381594</td>\n",
              "      <td>32.204208</td>\n",
              "    </tr>\n",
              "    <tr>\n",
              "      <th>std</th>\n",
              "      <td>257.353842</td>\n",
              "      <td>0.486592</td>\n",
              "      <td>0.836071</td>\n",
              "      <td>14.526497</td>\n",
              "      <td>1.102743</td>\n",
              "      <td>0.806057</td>\n",
              "      <td>49.693429</td>\n",
              "    </tr>\n",
              "    <tr>\n",
              "      <th>min</th>\n",
              "      <td>1.000000</td>\n",
              "      <td>0.000000</td>\n",
              "      <td>1.000000</td>\n",
              "      <td>0.420000</td>\n",
              "      <td>0.000000</td>\n",
              "      <td>0.000000</td>\n",
              "      <td>0.000000</td>\n",
              "    </tr>\n",
              "    <tr>\n",
              "      <th>25%</th>\n",
              "      <td>223.500000</td>\n",
              "      <td>0.000000</td>\n",
              "      <td>2.000000</td>\n",
              "      <td>20.125000</td>\n",
              "      <td>0.000000</td>\n",
              "      <td>0.000000</td>\n",
              "      <td>7.910400</td>\n",
              "    </tr>\n",
              "    <tr>\n",
              "      <th>50%</th>\n",
              "      <td>446.000000</td>\n",
              "      <td>0.000000</td>\n",
              "      <td>3.000000</td>\n",
              "      <td>28.000000</td>\n",
              "      <td>0.000000</td>\n",
              "      <td>0.000000</td>\n",
              "      <td>14.454200</td>\n",
              "    </tr>\n",
              "    <tr>\n",
              "      <th>75%</th>\n",
              "      <td>668.500000</td>\n",
              "      <td>1.000000</td>\n",
              "      <td>3.000000</td>\n",
              "      <td>38.000000</td>\n",
              "      <td>1.000000</td>\n",
              "      <td>0.000000</td>\n",
              "      <td>31.000000</td>\n",
              "    </tr>\n",
              "    <tr>\n",
              "      <th>max</th>\n",
              "      <td>891.000000</td>\n",
              "      <td>1.000000</td>\n",
              "      <td>3.000000</td>\n",
              "      <td>80.000000</td>\n",
              "      <td>8.000000</td>\n",
              "      <td>6.000000</td>\n",
              "      <td>512.329200</td>\n",
              "    </tr>\n",
              "  </tbody>\n",
              "</table>\n",
              "</div>"
            ],
            "text/plain": [
              "       PassengerId    Survived      Pclass  ...       SibSp       Parch        Fare\n",
              "count   891.000000  891.000000  891.000000  ...  891.000000  891.000000  891.000000\n",
              "mean    446.000000    0.383838    2.308642  ...    0.523008    0.381594   32.204208\n",
              "std     257.353842    0.486592    0.836071  ...    1.102743    0.806057   49.693429\n",
              "min       1.000000    0.000000    1.000000  ...    0.000000    0.000000    0.000000\n",
              "25%     223.500000    0.000000    2.000000  ...    0.000000    0.000000    7.910400\n",
              "50%     446.000000    0.000000    3.000000  ...    0.000000    0.000000   14.454200\n",
              "75%     668.500000    1.000000    3.000000  ...    1.000000    0.000000   31.000000\n",
              "max     891.000000    1.000000    3.000000  ...    8.000000    6.000000  512.329200\n",
              "\n",
              "[8 rows x 7 columns]"
            ]
          },
          "metadata": {
            "tags": []
          },
          "execution_count": 8
        }
      ]
    },
    {
      "cell_type": "code",
      "metadata": {
        "id": "6lqBCLTJZYs9",
        "colab_type": "code",
        "colab": {
          "base_uri": "https://localhost:8080/",
          "height": 173
        },
        "outputId": "7d320208-b1d6-4765-a4f1-98e5c88f6569"
      },
      "source": [
        "train_df.describe(include=['O'])"
      ],
      "execution_count": 10,
      "outputs": [
        {
          "output_type": "execute_result",
          "data": {
            "text/html": [
              "<div>\n",
              "<style scoped>\n",
              "    .dataframe tbody tr th:only-of-type {\n",
              "        vertical-align: middle;\n",
              "    }\n",
              "\n",
              "    .dataframe tbody tr th {\n",
              "        vertical-align: top;\n",
              "    }\n",
              "\n",
              "    .dataframe thead th {\n",
              "        text-align: right;\n",
              "    }\n",
              "</style>\n",
              "<table border=\"1\" class=\"dataframe\">\n",
              "  <thead>\n",
              "    <tr style=\"text-align: right;\">\n",
              "      <th></th>\n",
              "      <th>Name</th>\n",
              "      <th>Sex</th>\n",
              "      <th>Ticket</th>\n",
              "      <th>Cabin</th>\n",
              "      <th>Embarked</th>\n",
              "    </tr>\n",
              "  </thead>\n",
              "  <tbody>\n",
              "    <tr>\n",
              "      <th>count</th>\n",
              "      <td>891</td>\n",
              "      <td>891</td>\n",
              "      <td>891</td>\n",
              "      <td>204</td>\n",
              "      <td>889</td>\n",
              "    </tr>\n",
              "    <tr>\n",
              "      <th>unique</th>\n",
              "      <td>891</td>\n",
              "      <td>2</td>\n",
              "      <td>681</td>\n",
              "      <td>147</td>\n",
              "      <td>3</td>\n",
              "    </tr>\n",
              "    <tr>\n",
              "      <th>top</th>\n",
              "      <td>Thayer, Mrs. John Borland (Marian Longstreth M...</td>\n",
              "      <td>male</td>\n",
              "      <td>1601</td>\n",
              "      <td>G6</td>\n",
              "      <td>S</td>\n",
              "    </tr>\n",
              "    <tr>\n",
              "      <th>freq</th>\n",
              "      <td>1</td>\n",
              "      <td>577</td>\n",
              "      <td>7</td>\n",
              "      <td>4</td>\n",
              "      <td>644</td>\n",
              "    </tr>\n",
              "  </tbody>\n",
              "</table>\n",
              "</div>"
            ],
            "text/plain": [
              "                                                     Name   Sex  ... Cabin Embarked\n",
              "count                                                 891   891  ...   204      889\n",
              "unique                                                891     2  ...   147        3\n",
              "top     Thayer, Mrs. John Borland (Marian Longstreth M...  male  ...    G6        S\n",
              "freq                                                    1   577  ...     4      644\n",
              "\n",
              "[4 rows x 5 columns]"
            ]
          },
          "metadata": {
            "tags": []
          },
          "execution_count": 10
        }
      ]
    },
    {
      "cell_type": "markdown",
      "metadata": {
        "id": "0cn3gqJcZuTZ",
        "colab_type": "text"
      },
      "source": [
        "데이터분석"
      ]
    },
    {
      "cell_type": "code",
      "metadata": {
        "id": "IxRWVhjsZf48",
        "colab_type": "code",
        "colab": {
          "base_uri": "https://localhost:8080/",
          "height": 173
        },
        "outputId": "c119d58f-9450-45ac-9828-89d4ca5fef56"
      },
      "source": [
        "train_df[['Pclass','Survived']].groupby('Pclass').mean()"
      ],
      "execution_count": 16,
      "outputs": [
        {
          "output_type": "execute_result",
          "data": {
            "text/html": [
              "<div>\n",
              "<style scoped>\n",
              "    .dataframe tbody tr th:only-of-type {\n",
              "        vertical-align: middle;\n",
              "    }\n",
              "\n",
              "    .dataframe tbody tr th {\n",
              "        vertical-align: top;\n",
              "    }\n",
              "\n",
              "    .dataframe thead th {\n",
              "        text-align: right;\n",
              "    }\n",
              "</style>\n",
              "<table border=\"1\" class=\"dataframe\">\n",
              "  <thead>\n",
              "    <tr style=\"text-align: right;\">\n",
              "      <th></th>\n",
              "      <th>Survived</th>\n",
              "    </tr>\n",
              "    <tr>\n",
              "      <th>Pclass</th>\n",
              "      <th></th>\n",
              "    </tr>\n",
              "  </thead>\n",
              "  <tbody>\n",
              "    <tr>\n",
              "      <th>1</th>\n",
              "      <td>0.629630</td>\n",
              "    </tr>\n",
              "    <tr>\n",
              "      <th>2</th>\n",
              "      <td>0.472826</td>\n",
              "    </tr>\n",
              "    <tr>\n",
              "      <th>3</th>\n",
              "      <td>0.242363</td>\n",
              "    </tr>\n",
              "  </tbody>\n",
              "</table>\n",
              "</div>"
            ],
            "text/plain": [
              "        Survived\n",
              "Pclass          \n",
              "1       0.629630\n",
              "2       0.472826\n",
              "3       0.242363"
            ]
          },
          "metadata": {
            "tags": []
          },
          "execution_count": 16
        }
      ]
    },
    {
      "cell_type": "code",
      "metadata": {
        "id": "Z4PJZE4gbB2X",
        "colab_type": "code",
        "colab": {
          "base_uri": "https://localhost:8080/",
          "height": 142
        },
        "outputId": "22c58d19-a55d-401a-8a57-7ecbfbf3d30b"
      },
      "source": [
        "train_df[['Sex','Survived']].groupby('Sex').mean()"
      ],
      "execution_count": 19,
      "outputs": [
        {
          "output_type": "execute_result",
          "data": {
            "text/html": [
              "<div>\n",
              "<style scoped>\n",
              "    .dataframe tbody tr th:only-of-type {\n",
              "        vertical-align: middle;\n",
              "    }\n",
              "\n",
              "    .dataframe tbody tr th {\n",
              "        vertical-align: top;\n",
              "    }\n",
              "\n",
              "    .dataframe thead th {\n",
              "        text-align: right;\n",
              "    }\n",
              "</style>\n",
              "<table border=\"1\" class=\"dataframe\">\n",
              "  <thead>\n",
              "    <tr style=\"text-align: right;\">\n",
              "      <th></th>\n",
              "      <th>Survived</th>\n",
              "    </tr>\n",
              "    <tr>\n",
              "      <th>Sex</th>\n",
              "      <th></th>\n",
              "    </tr>\n",
              "  </thead>\n",
              "  <tbody>\n",
              "    <tr>\n",
              "      <th>female</th>\n",
              "      <td>0.742038</td>\n",
              "    </tr>\n",
              "    <tr>\n",
              "      <th>male</th>\n",
              "      <td>0.188908</td>\n",
              "    </tr>\n",
              "  </tbody>\n",
              "</table>\n",
              "</div>"
            ],
            "text/plain": [
              "        Survived\n",
              "Sex             \n",
              "female  0.742038\n",
              "male    0.188908"
            ]
          },
          "metadata": {
            "tags": []
          },
          "execution_count": 19
        }
      ]
    },
    {
      "cell_type": "code",
      "metadata": {
        "id": "nWtjSpNsbq-v",
        "colab_type": "code",
        "colab": {
          "base_uri": "https://localhost:8080/",
          "height": 297
        },
        "outputId": "4a87f4a1-b9bd-4d9f-c0b6-51b228649de8"
      },
      "source": [
        "train_df[['SibSp','Survived']].groupby('SibSp').mean()"
      ],
      "execution_count": 21,
      "outputs": [
        {
          "output_type": "execute_result",
          "data": {
            "text/html": [
              "<div>\n",
              "<style scoped>\n",
              "    .dataframe tbody tr th:only-of-type {\n",
              "        vertical-align: middle;\n",
              "    }\n",
              "\n",
              "    .dataframe tbody tr th {\n",
              "        vertical-align: top;\n",
              "    }\n",
              "\n",
              "    .dataframe thead th {\n",
              "        text-align: right;\n",
              "    }\n",
              "</style>\n",
              "<table border=\"1\" class=\"dataframe\">\n",
              "  <thead>\n",
              "    <tr style=\"text-align: right;\">\n",
              "      <th></th>\n",
              "      <th>Survived</th>\n",
              "    </tr>\n",
              "    <tr>\n",
              "      <th>SibSp</th>\n",
              "      <th></th>\n",
              "    </tr>\n",
              "  </thead>\n",
              "  <tbody>\n",
              "    <tr>\n",
              "      <th>0</th>\n",
              "      <td>0.345395</td>\n",
              "    </tr>\n",
              "    <tr>\n",
              "      <th>1</th>\n",
              "      <td>0.535885</td>\n",
              "    </tr>\n",
              "    <tr>\n",
              "      <th>2</th>\n",
              "      <td>0.464286</td>\n",
              "    </tr>\n",
              "    <tr>\n",
              "      <th>3</th>\n",
              "      <td>0.250000</td>\n",
              "    </tr>\n",
              "    <tr>\n",
              "      <th>4</th>\n",
              "      <td>0.166667</td>\n",
              "    </tr>\n",
              "    <tr>\n",
              "      <th>5</th>\n",
              "      <td>0.000000</td>\n",
              "    </tr>\n",
              "    <tr>\n",
              "      <th>8</th>\n",
              "      <td>0.000000</td>\n",
              "    </tr>\n",
              "  </tbody>\n",
              "</table>\n",
              "</div>"
            ],
            "text/plain": [
              "       Survived\n",
              "SibSp          \n",
              "0      0.345395\n",
              "1      0.535885\n",
              "2      0.464286\n",
              "3      0.250000\n",
              "4      0.166667\n",
              "5      0.000000\n",
              "8      0.000000"
            ]
          },
          "metadata": {
            "tags": []
          },
          "execution_count": 21
        }
      ]
    },
    {
      "cell_type": "code",
      "metadata": {
        "id": "RhzMa1bfb-50",
        "colab_type": "code",
        "colab": {
          "base_uri": "https://localhost:8080/",
          "height": 73
        },
        "outputId": "a46473b2-82f1-4456-c798-29879e4d8ed2"
      },
      "source": [
        "import matplotlib.pyplot as plt\n",
        "import seaborn as sns\n",
        "\n",
        "%matplotlib inline"
      ],
      "execution_count": 22,
      "outputs": [
        {
          "output_type": "stream",
          "text": [
            "/usr/local/lib/python3.6/dist-packages/statsmodels/tools/_testing.py:19: FutureWarning: pandas.util.testing is deprecated. Use the functions in the public API at pandas.testing instead.\n",
            "  import pandas.util.testing as tm\n"
          ],
          "name": "stderr"
        }
      ]
    },
    {
      "cell_type": "code",
      "metadata": {
        "id": "bprpfTlwcOuU",
        "colab_type": "code",
        "colab": {
          "base_uri": "https://localhost:8080/",
          "height": 429
        },
        "outputId": "dd2946cb-dd1d-4cef-fa78-ee61e280f021"
      },
      "source": [
        "plt.hist(train_df['Age'])"
      ],
      "execution_count": 27,
      "outputs": [
        {
          "output_type": "stream",
          "text": [
            "/usr/local/lib/python3.6/dist-packages/numpy/lib/histograms.py:839: RuntimeWarning: invalid value encountered in greater_equal\n",
            "  keep = (tmp_a >= first_edge)\n",
            "/usr/local/lib/python3.6/dist-packages/numpy/lib/histograms.py:840: RuntimeWarning: invalid value encountered in less_equal\n",
            "  keep &= (tmp_a <= last_edge)\n"
          ],
          "name": "stderr"
        },
        {
          "output_type": "execute_result",
          "data": {
            "text/plain": [
              "(array([ 54.,  46., 177., 169., 118.,  70.,  45.,  24.,   9.,   2.]),\n",
              " array([ 0.42 ,  8.378, 16.336, 24.294, 32.252, 40.21 , 48.168, 56.126,\n",
              "        64.084, 72.042, 80.   ]),\n",
              " <a list of 10 Patch objects>)"
            ]
          },
          "metadata": {
            "tags": []
          },
          "execution_count": 27
        },
        {
          "output_type": "display_data",
          "data": {
            "image/png": "[encoded data removed]",
            "text/plain": [
              "<Figure size 432x288 with 1 Axes>"
            ]
          },
          "metadata": {
            "tags": [],
            "needs_background": "light"
          }
        }
      ]
    },
    {
      "cell_type": "code",
      "metadata": {
        "id": "DPdQFPpZcXAy",
        "colab_type": "code",
        "colab": {
          "base_uri": "https://localhost:8080/",
          "height": 243
        },
        "outputId": "41f7c09e-4fdb-445c-e21e-336cda914316"
      },
      "source": [
        "grid=sns.FacetGrid(train_df , col='Survived', hue='Survived')\n",
        "grid.map(plt.hist, 'Age', bins=30)"
      ],
      "execution_count": 31,
      "outputs": [
        {
          "output_type": "execute_result",
          "data": {
            "text/plain": [
              "<seaborn.axisgrid.FacetGrid at 0x7f4b81d6a908>"
            ]
          },
          "metadata": {
            "tags": []
          },
          "execution_count": 31
        },
        {
          "output_type": "display_data",
          "data": {
            "image/png": "[encoded data removed]",
            "text/plain": [
              "<Figure size 432x216 with 2 Axes>"
            ]
          },
          "metadata": {
            "tags": [],
            "needs_background": "light"
          }
        }
      ]
    },
    {
      "cell_type": "code",
      "metadata": {
        "id": "FnTfFkH6dRnJ",
        "colab_type": "code",
        "colab": {
          "base_uri": "https://localhost:8080/",
          "height": 675
        },
        "outputId": "e9085a02-72e0-402d-996d-e2e3cf2b3028"
      },
      "source": [
        "grid = sns.FacetGrid(train_df, row= 'Pclass', col='Survived')\n",
        "grid.map(plt.hist, 'Age', bins=30)"
      ],
      "execution_count": 34,
      "outputs": [
        {
          "output_type": "execute_result",
          "data": {
            "text/plain": [
              "<seaborn.axisgrid.FacetGrid at 0x7f4b7f230780>"
            ]
          },
          "metadata": {
            "tags": []
          },
          "execution_count": 34
        },
        {
          "output_type": "display_data",
          "data": {
            "image/png": "[encoded data removed]",
            "text/plain": [
              "<Figure size 432x648 with 6 Axes>"
            ]
          },
          "metadata": {
            "tags": [],
            "needs_background": "light"
          }
        }
      ]
    },
    {
      "cell_type": "code",
      "metadata": {
        "id": "pT01IHOzdiax",
        "colab_type": "code",
        "colab": {
          "base_uri": "https://localhost:8080/",
          "height": 441
        },
        "outputId": "5f20abca-f11b-4c28-daec-7c675c548fa1"
      },
      "source": [
        "grid = sns.FacetGrid(train_df,row='Sex', col= \"Survived\") "
      ],
      "execution_count": 38,
      "outputs": [
        {
          "output_type": "display_data",
          "data": {
            "image/png": "[encoded data removed]",
            "text/plain": [
              "<Figure size 432x432 with 4 Axes>"
            ]
          },
          "metadata": {
            "tags": [],
            "needs_background": "light"
          }
        }
      ]
    },
    {
      "cell_type": "markdown",
      "metadata": {
        "id": "R3ukXiLKgCBq",
        "colab_type": "text"
      },
      "source": [
        ""
      ]
    },
    {
      "cell_type": "code",
      "metadata": {
        "id": "u4RLcze3fF-Z",
        "colab_type": "code",
        "colab": {
          "base_uri": "https://localhost:8080/",
          "height": 731
        },
        "outputId": "56a2fa48-49dd-4435-8ca7-833ca57ffb32"
      },
      "source": [
        "grid=sns.FacetGrid(train_df, row='Embarked',col='Survived')\n",
        "grid.map(sns.pointplot,'Age')\n",
        "\n"
      ],
      "execution_count": 42,
      "outputs": [
        {
          "output_type": "stream",
          "text": [
            "/usr/local/lib/python3.6/dist-packages/seaborn/axisgrid.py:723: UserWarning: Using the pointplot function without specifying `order` is likely to produce an incorrect plot.\n",
            "  warnings.warn(warning)\n"
          ],
          "name": "stderr"
        },
        {
          "output_type": "execute_result",
          "data": {
            "text/plain": [
              "<seaborn.axisgrid.FacetGrid at 0x7f4b7ead3128>"
            ]
          },
          "metadata": {
            "tags": []
          },
          "execution_count": 42
        },
        {
          "output_type": "display_data",
          "data": {
            "image/png": "[encoded data removed]",
            "text/plain": [
              "<Figure size 432x648 with 6 Axes>"
            ]
          },
          "metadata": {
            "tags": [],
            "needs_background": "light"
          }
        }
      ]
    },
    {
      "cell_type": "code",
      "metadata": {
        "id": "J5ywIT4GeQqf",
        "colab_type": "code",
        "colab": {
          "base_uri": "https://localhost:8080/",
          "height": 233
        },
        "outputId": "d7a7a97d-418b-4b90-e0c5-39d13155ab36"
      },
      "source": [
        "train_df['Name']"
      ],
      "execution_count": 44,
      "outputs": [
        {
          "output_type": "execute_result",
          "data": {
            "text/plain": [
              "0                                Braund, Mr. Owen Harris\n",
              "1      Cumings, Mrs. John Bradley (Florence Briggs Th...\n",
              "2                                 Heikkinen, Miss. Laina\n",
              "3           Futrelle, Mrs. Jacques Heath (Lily May Peel)\n",
              "4                               Allen, Mr. William Henry\n",
              "                             ...                        \n",
              "886                                Montvila, Rev. Juozas\n",
              "887                         Graham, Miss. Margaret Edith\n",
              "888             Johnston, Miss. Catherine Helen \"Carrie\"\n",
              "889                                Behr, Mr. Karl Howell\n",
              "890                                  Dooley, Mr. Patrick\n",
              "Name: Name, Length: 891, dtype: object"
            ]
          },
          "metadata": {
            "tags": []
          },
          "execution_count": 44
        }
      ]
    },
    {
      "cell_type": "code",
      "metadata": {
        "id": "XhoXdVcfhFIp",
        "colab_type": "code",
        "colab": {}
      },
      "source": [
        "combine=[train_df,test_df]"
      ],
      "execution_count": 45,
      "outputs": []
    },
    {
      "cell_type": "code",
      "metadata": {
        "id": "pDQNY0YphOge",
        "colab_type": "code",
        "colab": {
          "base_uri": "https://localhost:8080/",
          "height": 233
        },
        "outputId": "2ef6938e-f608-4c92-a6dc-ec974df7070f"
      },
      "source": [
        "for i in combine:\n",
        "  i['Title']=i['Name'].str.extract('([A-Za-z]+)\\. ',expand=False)\n",
        "train_df['Title']"
      ],
      "execution_count": 55,
      "outputs": [
        {
          "output_type": "execute_result",
          "data": {
            "text/plain": [
              "0        Mr\n",
              "1       Mrs\n",
              "2      Miss\n",
              "3       Mrs\n",
              "4        Mr\n",
              "       ... \n",
              "886     Rev\n",
              "887    Miss\n",
              "888    Miss\n",
              "889      Mr\n",
              "890      Mr\n",
              "Name: Title, Length: 891, dtype: object"
            ]
          },
          "metadata": {
            "tags": []
          },
          "execution_count": 55
        }
      ]
    },
    {
      "cell_type": "code",
      "metadata": {
        "id": "vlGw1Ju4iOTf",
        "colab_type": "code",
        "colab": {
          "base_uri": "https://localhost:8080/",
          "height": 71
        },
        "outputId": "962efa5b-8f02-426f-ee08-0a9a058a42a4"
      },
      "source": [
        "train_df['Title'].unique()"
      ],
      "execution_count": 56,
      "outputs": [
        {
          "output_type": "execute_result",
          "data": {
            "text/plain": [
              "array(['Mr', 'Mrs', 'Miss', 'Master', 'Don', 'Rev', 'Dr', 'Mme', 'Ms',\n",
              "       'Major', 'Lady', 'Sir', 'Mlle', 'Col', 'Capt', 'Countess',\n",
              "       'Jonkheer'], dtype=object)"
            ]
          },
          "metadata": {
            "tags": []
          },
          "execution_count": 56
        }
      ]
    },
    {
      "cell_type": "code",
      "metadata": {
        "id": "Y5E9D_CAi7y3",
        "colab_type": "code",
        "colab": {
          "base_uri": "https://localhost:8080/",
          "height": 607
        },
        "outputId": "8df372ae-cf80-4815-f31f-0578c9328769"
      },
      "source": [
        "pd.crosstab(train_df['Title'],train_df['Sex'])"
      ],
      "execution_count": 57,
      "outputs": [
        {
          "output_type": "execute_result",
          "data": {
            "text/html": [
              "<div>\n",
              "<style scoped>\n",
              "    .dataframe tbody tr th:only-of-type {\n",
              "        vertical-align: middle;\n",
              "    }\n",
              "\n",
              "    .dataframe tbody tr th {\n",
              "        vertical-align: top;\n",
              "    }\n",
              "\n",
              "    .dataframe thead th {\n",
              "        text-align: right;\n",
              "    }\n",
              "</style>\n",
              "<table border=\"1\" class=\"dataframe\">\n",
              "  <thead>\n",
              "    <tr style=\"text-align: right;\">\n",
              "      <th>Sex</th>\n",
              "      <th>female</th>\n",
              "      <th>male</th>\n",
              "    </tr>\n",
              "    <tr>\n",
              "      <th>Title</th>\n",
              "      <th></th>\n",
              "      <th></th>\n",
              "    </tr>\n",
              "  </thead>\n",
              "  <tbody>\n",
              "    <tr>\n",
              "      <th>Capt</th>\n",
              "      <td>0</td>\n",
              "      <td>1</td>\n",
              "    </tr>\n",
              "    <tr>\n",
              "      <th>Col</th>\n",
              "      <td>0</td>\n",
              "      <td>2</td>\n",
              "    </tr>\n",
              "    <tr>\n",
              "      <th>Countess</th>\n",
              "      <td>1</td>\n",
              "      <td>0</td>\n",
              "    </tr>\n",
              "    <tr>\n",
              "      <th>Don</th>\n",
              "      <td>0</td>\n",
              "      <td>1</td>\n",
              "    </tr>\n",
              "    <tr>\n",
              "      <th>Dr</th>\n",
              "      <td>1</td>\n",
              "      <td>6</td>\n",
              "    </tr>\n",
              "    <tr>\n",
              "      <th>Jonkheer</th>\n",
              "      <td>0</td>\n",
              "      <td>1</td>\n",
              "    </tr>\n",
              "    <tr>\n",
              "      <th>Lady</th>\n",
              "      <td>1</td>\n",
              "      <td>0</td>\n",
              "    </tr>\n",
              "    <tr>\n",
              "      <th>Major</th>\n",
              "      <td>0</td>\n",
              "      <td>2</td>\n",
              "    </tr>\n",
              "    <tr>\n",
              "      <th>Master</th>\n",
              "      <td>0</td>\n",
              "      <td>40</td>\n",
              "    </tr>\n",
              "    <tr>\n",
              "      <th>Miss</th>\n",
              "      <td>182</td>\n",
              "      <td>0</td>\n",
              "    </tr>\n",
              "    <tr>\n",
              "      <th>Mlle</th>\n",
              "      <td>2</td>\n",
              "      <td>0</td>\n",
              "    </tr>\n",
              "    <tr>\n",
              "      <th>Mme</th>\n",
              "      <td>1</td>\n",
              "      <td>0</td>\n",
              "    </tr>\n",
              "    <tr>\n",
              "      <th>Mr</th>\n",
              "      <td>0</td>\n",
              "      <td>517</td>\n",
              "    </tr>\n",
              "    <tr>\n",
              "      <th>Mrs</th>\n",
              "      <td>125</td>\n",
              "      <td>0</td>\n",
              "    </tr>\n",
              "    <tr>\n",
              "      <th>Ms</th>\n",
              "      <td>1</td>\n",
              "      <td>0</td>\n",
              "    </tr>\n",
              "    <tr>\n",
              "      <th>Rev</th>\n",
              "      <td>0</td>\n",
              "      <td>6</td>\n",
              "    </tr>\n",
              "    <tr>\n",
              "      <th>Sir</th>\n",
              "      <td>0</td>\n",
              "      <td>1</td>\n",
              "    </tr>\n",
              "  </tbody>\n",
              "</table>\n",
              "</div>"
            ],
            "text/plain": [
              "Sex       female  male\n",
              "Title                 \n",
              "Capt           0     1\n",
              "Col            0     2\n",
              "Countess       1     0\n",
              "Don            0     1\n",
              "Dr             1     6\n",
              "Jonkheer       0     1\n",
              "Lady           1     0\n",
              "Major          0     2\n",
              "Master         0    40\n",
              "Miss         182     0\n",
              "Mlle           2     0\n",
              "Mme            1     0\n",
              "Mr             0   517\n",
              "Mrs          125     0\n",
              "Ms             1     0\n",
              "Rev            0     6\n",
              "Sir            0     1"
            ]
          },
          "metadata": {
            "tags": []
          },
          "execution_count": 57
        }
      ]
    },
    {
      "cell_type": "code",
      "metadata": {
        "id": "DdVwjH4pjLg-",
        "colab_type": "code",
        "colab": {}
      },
      "source": [
        "for d in combine:\n",
        "  d['Title']=d['Title'].replace(['Capt','Lady','Countess','Col','Don','Dr','Major','Rev','Sir','Jonkheer','Dona'],'Other')\n",
        "  d['Title']=d['Title'].replace('Mlle','Miss')\n",
        "  d['Title']=d['Title'].replace('Ms', 'Miss')\n",
        "  d['Title']=d['Title'].replace('Mme','Mrs')"
      ],
      "execution_count": 65,
      "outputs": []
    },
    {
      "cell_type": "code",
      "metadata": {
        "id": "2wqxPqVBpfNy",
        "colab_type": "code",
        "colab": {
          "base_uri": "https://localhost:8080/",
          "height": 204
        },
        "outputId": "377b54b5-2f21-4601-e920-a92a0b1ba51d"
      },
      "source": [
        "train_df[['Title','Survived']].groupby('Title',as_index=False).mean()"
      ],
      "execution_count": 66,
      "outputs": [
        {
          "output_type": "execute_result",
          "data": {
            "text/html": [
              "<div>\n",
              "<style scoped>\n",
              "    .dataframe tbody tr th:only-of-type {\n",
              "        vertical-align: middle;\n",
              "    }\n",
              "\n",
              "    .dataframe tbody tr th {\n",
              "        vertical-align: top;\n",
              "    }\n",
              "\n",
              "    .dataframe thead th {\n",
              "        text-align: right;\n",
              "    }\n",
              "</style>\n",
              "<table border=\"1\" class=\"dataframe\">\n",
              "  <thead>\n",
              "    <tr style=\"text-align: right;\">\n",
              "      <th></th>\n",
              "      <th>Title</th>\n",
              "      <th>Survived</th>\n",
              "    </tr>\n",
              "  </thead>\n",
              "  <tbody>\n",
              "    <tr>\n",
              "      <th>0</th>\n",
              "      <td>Master</td>\n",
              "      <td>0.575000</td>\n",
              "    </tr>\n",
              "    <tr>\n",
              "      <th>1</th>\n",
              "      <td>Miss</td>\n",
              "      <td>0.702703</td>\n",
              "    </tr>\n",
              "    <tr>\n",
              "      <th>2</th>\n",
              "      <td>Mr</td>\n",
              "      <td>0.158301</td>\n",
              "    </tr>\n",
              "    <tr>\n",
              "      <th>3</th>\n",
              "      <td>Mrs</td>\n",
              "      <td>0.792000</td>\n",
              "    </tr>\n",
              "    <tr>\n",
              "      <th>4</th>\n",
              "      <td>Other</td>\n",
              "      <td>0.347826</td>\n",
              "    </tr>\n",
              "  </tbody>\n",
              "</table>\n",
              "</div>"
            ],
            "text/plain": [
              "    Title  Survived\n",
              "0  Master  0.575000\n",
              "1    Miss  0.702703\n",
              "2      Mr  0.158301\n",
              "3     Mrs  0.792000\n",
              "4   Other  0.347826"
            ]
          },
          "metadata": {
            "tags": []
          },
          "execution_count": 66
        }
      ]
    },
    {
      "cell_type": "code",
      "metadata": {
        "id": "Qk5ZLI-zp6Si",
        "colab_type": "code",
        "colab": {}
      },
      "source": [
        "titleColumn={'Mr':0, 'Miss':1,'Mrs':2,'Master':3,'Other':4}\n",
        "for q in combine:\n",
        "  q['Title']=q['Title'].map(titleColumn)\n",
        "  q['Title']=q['Title'].fillna(0)"
      ],
      "execution_count": 67,
      "outputs": []
    },
    {
      "cell_type": "code",
      "metadata": {
        "id": "xySJ0FvXsNes",
        "colab_type": "code",
        "colab": {
          "base_uri": "https://localhost:8080/",
          "height": 496
        },
        "outputId": "54582cf9-1842-4289-bf86-d2dfe5f40c79"
      },
      "source": [
        "train_df.head()"
      ],
      "execution_count": 68,
      "outputs": [
        {
          "output_type": "execute_result",
          "data": {
            "text/html": [
              "<div>\n",
              "<style scoped>\n",
              "    .dataframe tbody tr th:only-of-type {\n",
              "        vertical-align: middle;\n",
              "    }\n",
              "\n",
              "    .dataframe tbody tr th {\n",
              "        vertical-align: top;\n",
              "    }\n",
              "\n",
              "    .dataframe thead th {\n",
              "        text-align: right;\n",
              "    }\n",
              "</style>\n",
              "<table border=\"1\" class=\"dataframe\">\n",
              "  <thead>\n",
              "    <tr style=\"text-align: right;\">\n",
              "      <th></th>\n",
              "      <th>PassengerId</th>\n",
              "      <th>Survived</th>\n",
              "      <th>Pclass</th>\n",
              "      <th>Name</th>\n",
              "      <th>Sex</th>\n",
              "      <th>Age</th>\n",
              "      <th>SibSp</th>\n",
              "      <th>Parch</th>\n",
              "      <th>Ticket</th>\n",
              "      <th>Fare</th>\n",
              "      <th>Cabin</th>\n",
              "      <th>Embarked</th>\n",
              "      <th>Title</th>\n",
              "    </tr>\n",
              "  </thead>\n",
              "  <tbody>\n",
              "    <tr>\n",
              "      <th>0</th>\n",
              "      <td>1</td>\n",
              "      <td>0</td>\n",
              "      <td>3</td>\n",
              "      <td>Braund, Mr. Owen Harris</td>\n",
              "      <td>male</td>\n",
              "      <td>22.0</td>\n",
              "      <td>1</td>\n",
              "      <td>0</td>\n",
              "      <td>A/5 21171</td>\n",
              "      <td>7.2500</td>\n",
              "      <td>NaN</td>\n",
              "      <td>S</td>\n",
              "      <td>0</td>\n",
              "    </tr>\n",
              "    <tr>\n",
              "      <th>1</th>\n",
              "      <td>2</td>\n",
              "      <td>1</td>\n",
              "      <td>1</td>\n",
              "      <td>Cumings, Mrs. John Bradley (Florence Briggs Th...</td>\n",
              "      <td>female</td>\n",
              "      <td>38.0</td>\n",
              "      <td>1</td>\n",
              "      <td>0</td>\n",
              "      <td>PC 17599</td>\n",
              "      <td>71.2833</td>\n",
              "      <td>C85</td>\n",
              "      <td>C</td>\n",
              "      <td>2</td>\n",
              "    </tr>\n",
              "    <tr>\n",
              "      <th>2</th>\n",
              "      <td>3</td>\n",
              "      <td>1</td>\n",
              "      <td>3</td>\n",
              "      <td>Heikkinen, Miss. Laina</td>\n",
              "      <td>female</td>\n",
              "      <td>26.0</td>\n",
              "      <td>0</td>\n",
              "      <td>0</td>\n",
              "      <td>STON/O2. 3101282</td>\n",
              "      <td>7.9250</td>\n",
              "      <td>NaN</td>\n",
              "      <td>S</td>\n",
              "      <td>1</td>\n",
              "    </tr>\n",
              "    <tr>\n",
              "      <th>3</th>\n",
              "      <td>4</td>\n",
              "      <td>1</td>\n",
              "      <td>1</td>\n",
              "      <td>Futrelle, Mrs. Jacques Heath (Lily May Peel)</td>\n",
              "      <td>female</td>\n",
              "      <td>35.0</td>\n",
              "      <td>1</td>\n",
              "      <td>0</td>\n",
              "      <td>113803</td>\n",
              "      <td>53.1000</td>\n",
              "      <td>C123</td>\n",
              "      <td>S</td>\n",
              "      <td>2</td>\n",
              "    </tr>\n",
              "    <tr>\n",
              "      <th>4</th>\n",
              "      <td>5</td>\n",
              "      <td>0</td>\n",
              "      <td>3</td>\n",
              "      <td>Allen, Mr. William Henry</td>\n",
              "      <td>male</td>\n",
              "      <td>35.0</td>\n",
              "      <td>0</td>\n",
              "      <td>0</td>\n",
              "      <td>373450</td>\n",
              "      <td>8.0500</td>\n",
              "      <td>NaN</td>\n",
              "      <td>S</td>\n",
              "      <td>0</td>\n",
              "    </tr>\n",
              "  </tbody>\n",
              "</table>\n",
              "</div>"
            ],
            "text/plain": [
              "   PassengerId  Survived  Pclass  ... Cabin Embarked  Title\n",
              "0            1         0       3  ...   NaN        S      0\n",
              "1            2         1       1  ...   C85        C      2\n",
              "2            3         1       3  ...   NaN        S      1\n",
              "3            4         1       1  ...  C123        S      2\n",
              "4            5         0       3  ...   NaN        S      0\n",
              "\n",
              "[5 rows x 13 columns]"
            ]
          },
          "metadata": {
            "tags": []
          },
          "execution_count": 68
        }
      ]
    },
    {
      "cell_type": "code",
      "metadata": {
        "id": "7K963doFsQIr",
        "colab_type": "code",
        "colab": {}
      },
      "source": [
        "train_df.drop(['PassengerId','Name','Ticket','Cabin'],axis=1,inplace=True)\n",
        "test_df.drop(['PassengerId','Name','Ticket','Cabin'],axis=1,inplace=True)"
      ],
      "execution_count": null,
      "outputs": []
    },
    {
      "cell_type": "code",
      "metadata": {
        "id": "mS51S960t1ob",
        "colab_type": "code",
        "colab": {}
      },
      "source": [
        "combine=[train_df,test_df]"
      ],
      "execution_count": 74,
      "outputs": []
    },
    {
      "cell_type": "code",
      "metadata": {
        "id": "S6LLUL2Wud_N",
        "colab_type": "code",
        "colab": {}
      },
      "source": [
        "for e in combine:\n",
        "  e['Sex']=e['Sex'].replace('female',1)\n",
        "  e['Sex']=e['Sex'].replace('male',0)\n",
        " "
      ],
      "execution_count": 77,
      "outputs": []
    },
    {
      "cell_type": "code",
      "metadata": {
        "id": "BLK0SGBIvkYl",
        "colab_type": "code",
        "colab": {}
      },
      "source": [
        ""
      ],
      "execution_count": null,
      "outputs": []
    }
  ]
}