{
  "nbformat": 4,
  "nbformat_minor": 0,
  "metadata": {
    "colab": {
      "name": "ICT숙제",
      "provenance": [],
      "collapsed_sections": []
    },
    "kernelspec": {
      "name": "python3",
      "display_name": "Python 3"
    }
  },
  "cells": [
    {
      "cell_type": "code",
      "metadata": {
        "id": "USfXtQjM1dIO",
        "colab_type": "code",
        "colab": {}
      },
      "source": [
        "import os\n",
        "from bs4 import BeautifulSoup as bs\n",
        "from urllib.request import urlopen\n",
        "from urllib.parse import quote_plus"
      ],
      "execution_count": null,
      "outputs": []
    },
    {
      "cell_type": "code",
      "metadata": {
        "id": "c_M05URj2dH6",
        "colab_type": "code",
        "colab": {}
      },
      "source": [
        "def image_down(crawl_num, plusUrl):\n",
        "\n",
        "    baseUrl = 'https://search.naver.com/search.naver?where=image&sm=tab_jum&query='\n",
        "    url = baseUrl + quote_plus(plusUrl)\n",
        "    html = urlopen(url)\n",
        "    soup = bs(html, \"html.parser\")\n",
        "    img = soup.find_all(class_='_img')\n",
        "    n=1\n",
        "    path = './'+plusUrl\n",
        "    os.makedirs(path, exist_ok=True)\n",
        "    for i in img:\n",
        "        print(n,\"번째 이미지 다운로드\")\n",
        "        imgUrl = i['data-source']\n",
        "        with urlopen(imgUrl) as f:\n",
        "            with open(path+'/' + str(n)+'.jpg','wb') as h:\n",
        "                img = f.read()\n",
        "                h.write(img)\n",
        "        n += 1\n",
        "        if n > crawl_num:\n",
        "            break"
      ],
      "execution_count": null,
      "outputs": []
    },
    {
      "cell_type": "code",
      "metadata": {
        "id": "Kc4lysWJ2g8r",
        "colab_type": "code",
        "colab": {
          "base_uri": "https://localhost:8080/",
          "height": 917
        },
        "outputId": "67ecd0f1-ae78-4167-aa68-73b85a041b9d"
      },
      "source": [
        "image_down(50,\"사각형\")"
      ],
      "execution_count": 7,
      "outputs": [
        {
          "output_type": "stream",
          "text": [
            "1 번째 이미지 다운로드\n",
            "2 번째 이미지 다운로드\n",
            "3 번째 이미지 다운로드\n",
            "4 번째 이미지 다운로드\n",
            "5 번째 이미지 다운로드\n",
            "6 번째 이미지 다운로드\n",
            "7 번째 이미지 다운로드\n",
            "8 번째 이미지 다운로드\n",
            "9 번째 이미지 다운로드\n",
            "10 번째 이미지 다운로드\n",
            "11 번째 이미지 다운로드\n",
            "12 번째 이미지 다운로드\n",
            "13 번째 이미지 다운로드\n",
            "14 번째 이미지 다운로드\n",
            "15 번째 이미지 다운로드\n",
            "16 번째 이미지 다운로드\n",
            "17 번째 이미지 다운로드\n",
            "18 번째 이미지 다운로드\n",
            "19 번째 이미지 다운로드\n",
            "20 번째 이미지 다운로드\n",
            "21 번째 이미지 다운로드\n",
            "22 번째 이미지 다운로드\n",
            "23 번째 이미지 다운로드\n",
            "24 번째 이미지 다운로드\n",
            "25 번째 이미지 다운로드\n",
            "26 번째 이미지 다운로드\n",
            "27 번째 이미지 다운로드\n",
            "28 번째 이미지 다운로드\n",
            "29 번째 이미지 다운로드\n",
            "30 번째 이미지 다운로드\n",
            "31 번째 이미지 다운로드\n",
            "32 번째 이미지 다운로드\n",
            "33 번째 이미지 다운로드\n",
            "34 번째 이미지 다운로드\n",
            "35 번째 이미지 다운로드\n",
            "36 번째 이미지 다운로드\n",
            "37 번째 이미지 다운로드\n",
            "38 번째 이미지 다운로드\n",
            "39 번째 이미지 다운로드\n",
            "40 번째 이미지 다운로드\n",
            "41 번째 이미지 다운로드\n",
            "42 번째 이미지 다운로드\n",
            "43 번째 이미지 다운로드\n",
            "44 번째 이미지 다운로드\n",
            "45 번째 이미지 다운로드\n",
            "46 번째 이미지 다운로드\n",
            "47 번째 이미지 다운로드\n",
            "48 번째 이미지 다운로드\n",
            "49 번째 이미지 다운로드\n",
            "50 번째 이미지 다운로드\n"
          ],
          "name": "stdout"
        }
      ]
    }
  ]
}