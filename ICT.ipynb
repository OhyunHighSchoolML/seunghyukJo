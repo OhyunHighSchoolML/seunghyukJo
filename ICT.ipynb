{
  "nbformat": 4,
  "nbformat_minor": 0,
  "metadata": {
    "colab": {
      "name": "ICT.ipynb",
      "provenance": [],
      "collapsed_sections": [],
      "authorship_tag": "ABX9TyMMNL1k/HYafrI/Yuh3jsBy",
      "include_colab_link": true
    },
    "kernelspec": {
      "name": "python3",
      "display_name": "Python 3"
    }
  },
  "cells": [
    {
      "cell_type": "markdown",
      "metadata": {
        "id": "view-in-github",
        "colab_type": "text"
      },
      "source": [
        "<a href=\"https://colab.research.google.com/github/candlevillain/ICT/blob/master/ICT.ipynb\" target=\"_parent\"><img src=\"https://colab.research.google.com/assets/colab-badge.svg\" alt=\"Open In Colab\"/></a>"
      ]
    },
    {
      "cell_type": "code",
      "metadata": {
        "id": "XnC-NSPdEFTg",
        "colab_type": "code",
        "colab": {}
      },
      "source": [
        "import numpy as np\n",
        "import pandas as pd\n",
        "import matplotlib.pyplot as plt\n",
        "import seaborn as sns\n",
        "\n",
        "df=pd.read_excel('/content/제주특별자치도_버스정류소현황_201708.Exl.xlsx')\n",
        "df2=pd.read_excel('/content/제주특별자치도_한라산탐방객현황_2014_2018..xlsx')\n",
        "plt.scatter(df['경도'],df['위도'])\n",
        "df[df['정류소명']=='(구)중앙파출소']"
      ],
      "execution_count": null,
      "outputs": []
    },
    {
      "cell_type": "markdown",
      "metadata": {
        "id": "m4vMDiG08AXE",
        "colab_type": "text"
      },
      "source": [
        ""
      ]
    },
    {
      "cell_type": "code",
      "metadata": {
        "id": "F51S7_ugHp0B",
        "colab_type": "code",
        "colab": {
          "base_uri": "https://localhost:8080/",
          "height": 1000
        },
        "outputId": "cb236087-f268-413c-f79e-a3408c26fc48"
      },
      "source": [
        "df2=pd.read_excel('/content/mountain.xlsx')\n",
        "print(df2)"
      ],
      "execution_count": 6,
      "outputs": [
        {
          "output_type": "stream",
          "text": [
            "           구분    어리목     영실    성판악    관음사   돈내코\n",
            "0    2014년 1월  38438  23593  63950   7769  2428\n",
            "1    2014년 2월  26338  26009  39079   4497  1338\n",
            "2    2014년 3월  25865  15816  29038   2476  1302\n",
            "3    2014년 4월  36917  21065  33980   4017   997\n",
            "4    2014년 5월  32995  30804  34533   5813  1681\n",
            "5    2014년 6월  33041  25526  27411   5570  1938\n",
            "6    2014년 7월  28586  14744  18647   5039   762\n",
            "7    2014년 8월  28513  15746  28382   4463   762\n",
            "8    2014년 9월  33885  22324  31839   6349   667\n",
            "9   2014년 10월  41932  34724  47012   8965   876\n",
            "10  2014년 11월  31946  26221  38082   8979   469\n",
            "11  2014년 12월  35503  16147  26320   3748   346\n",
            "12   2015년 1월  48351  35139  57484   8635   839\n",
            "13   2015년 2월  36716  23697  36103   6069   629\n",
            "14   2015년 3월  36579  20020  25834   4312   432\n",
            "15   2015년 4월  41783  21595  52223   5118   461\n",
            "16   2015년 5월  49974  31009  72025   6595  1011\n",
            "17   2015년 6월  20757  22857  26309   4164   822\n",
            "18   2015년 7월  12039  14092  21410   5099   413\n",
            "19   2015년 8월  20464  19327  27303   7127   516\n",
            "20   2015년 9월  28352  20374  29017   3968   472\n",
            "21  2015년 10월  48079  44898  49699   6311   568\n",
            "22  2015년 11월  31063  28792  29851   5612   450\n",
            "23  2015년 12월  35555  29299  34969   2679   391\n",
            "24   2016년 1월  41455  22958  58073   2959   579\n",
            "25   2016년 2월  38633  29337  31659   2343   409\n",
            "26   2016년 3월  34784  21600  24486   2222   393\n",
            "27   2016년 4월  32786  19373  27032   2637   500\n",
            "28   2016년 5월  38241  29043  35252   3364   832\n",
            "29   2016년 6월  29366  22713  22059   2419  1063\n",
            "30   2016년 7월  23013  16139  19653   3722   398\n",
            "31   2016년 8월  27882  20808  20853   4920   573\n",
            "32   2016년 9월  25478  21522  21227   3228   371\n",
            "33  2016년 10월  36473  27096  34512   6401   577\n",
            "34  2016년 11월  27229  30821  28403   5146   694\n",
            "35  2016년 12월  25695  22778  27339   3799   578\n",
            "36   2017년 1월  37527  26668  38091   5653   771\n",
            "37   2017년 2월  26479  18898  40952   4876   432\n",
            "38   2017년 3월  17566  20526  22304   4635   412\n",
            "39   2017년 4월  18392  20918  27603   5938   540\n",
            "40   2017년 5월  30191  34246  35759   7492   910\n",
            "41   2017년 6월  19528  26566  22292   6862   949\n",
            "42   2017년 7월  15123  13219  15488   7931   495\n",
            "43   2017년 8월  16833  13862  16021   6909   567\n",
            "44   2017년 9월  15134  17796  22478   6194   484\n",
            "45  2017년 10월  33498  36046  37228  11709   622\n",
            "46  2017년 11월  23444  25622  39297   7056   574\n",
            "47  2017년 12월  32035  20515  35675   5176   433\n",
            "48   2018년 1월  28301  21052  55637   6015   553\n",
            "49   2018년 2월  12335  11461  16998   6212   231\n",
            "50   2018년 3월  16864  17166  27623   4246   436\n",
            "51   2018년 4월  19604  18928  31922   4292   451\n",
            "52   2018년 5월  25934  29981  34772   6597   626\n",
            "53   2018년 6월  20919  30555  21485   6880   703\n",
            "54   2018년 7월  12131  15324   6052  12369   416\n",
            "55   2018년 8월  15592  17959  17601   6709   406\n",
            "56   2018년 9월  15534  19359  21581   4289   222\n",
            "57  2018년 10월  29580  36817  38166   7095   622\n",
            "58  2018년 11월  21422  25068  28438   7009   342\n",
            "59  2018년 12월  18264  12957  18035   3494   185\n"
          ],
          "name": "stdout"
        }
      ]
    },
    {
      "cell_type": "code",
      "metadata": {
        "id": "IpgvlSQAHul-",
        "colab_type": "code",
        "colab": {}
      },
      "source": [
        "df2.groupby('어리목').sum()"
      ],
      "execution_count": null,
      "outputs": []
    },
    {
      "cell_type": "code",
      "metadata": {
        "id": "mxuUGC06ITG2",
        "colab_type": "code",
        "colab": {}
      },
      "source": [
        "def summ(k):\n",
        "  ss=0\n",
        "  for i in df2.iloc[k]:\n",
        "    ss+=int(i)\n",
        "  return ss"
      ],
      "execution_count": null,
      "outputs": []
    },
    {
      "cell_type": "code",
      "metadata": {
        "id": "qO_VWpq9Js0C",
        "colab_type": "code",
        "colab": {}
      },
      "source": [
        "\n",
        "df2=pd.read_excel('/content/제주특별자치도_한라산탐방객현황_2014_2018..xlsx')\n",
        "df2['하루총합']=0\n",
        "DF2=df2.drop('구분',axis=1)\n",
        "for i in DF2.index:\n",
        "  DF2['하루총합'][i]=DF2.loc[i].sum()\n",
        "print(DF2)"
      ],
      "execution_count": null,
      "outputs": []
    },
    {
      "cell_type": "code",
      "metadata": {
        "id": "b_04cpXsMciU",
        "colab_type": "code",
        "colab": {}
      },
      "source": [
        "\n"
      ],
      "execution_count": null,
      "outputs": []
    },
    {
      "cell_type": "code",
      "metadata": {
        "id": "nHof8Sf5RJVe",
        "colab_type": "code",
        "colab": {}
      },
      "source": [
        "df3=pd.read_csv('/content/hadoop.csv')\n",
        "df3"
      ],
      "execution_count": null,
      "outputs": []
    },
    {
      "cell_type": "code",
      "metadata": {
        "id": "_7L7AlA5Qx_3",
        "colab_type": "code",
        "colab": {}
      },
      "source": [
        "unique_ip=df3['access_ip'].unique()\n"
      ],
      "execution_count": null,
      "outputs": []
    },
    {
      "cell_type": "code",
      "metadata": {
        "id": "DNgr8H03ScvX",
        "colab_type": "code",
        "colab": {}
      },
      "source": [
        "unique_dict=dict.fromkeys(unique_ip)\n",
        "for i in unique_dict.keys():\n",
        "  unique_dict[i]=[]\n",
        "unique_dict"
      ],
      "execution_count": null,
      "outputs": []
    },
    {
      "cell_type": "code",
      "metadata": {
        "id": "Qm_51pgbS4VU",
        "colab_type": "code",
        "colab": {
          "base_uri": "https://localhost:8080/",
          "height": 136
        },
        "outputId": "0b2fe195-b653-4aaa-b68d-6e4e92403ada"
      },
      "source": [
        "data=pd.DataFrame.from_dict.(unique_dict.orient='index')"
      ],
      "execution_count": null,
      "outputs": [
        {
          "output_type": "error",
          "ename": "SyntaxError",
          "evalue": "ignored",
          "traceback": [
            "\u001b[0;36m  File \u001b[0;32m\"<ipython-input-64-f2a9e4f03aaf>\"\u001b[0;36m, line \u001b[0;32m1\u001b[0m\n\u001b[0;31m    data=pd.DataFrame.from_dict.(unique_dict.orient='index')\u001b[0m\n\u001b[0m                                ^\u001b[0m\n\u001b[0;31mSyntaxError\u001b[0m\u001b[0;31m:\u001b[0m invalid syntax\n"
          ]
        }
      ]
    },
    {
      "cell_type": "code",
      "metadata": {
        "id": "TFDyayYP12VG",
        "colab_type": "code",
        "colab": {
          "base_uri": "https://localhost:8080/",
          "height": 269
        },
        "outputId": "c0aae07c-cff7-4931-e593-5275a72fb33a"
      },
      "source": [
        "df2.loc[60] = 0\n",
        "def summ(k):\n",
        "  ss=0\n",
        "  for i in df2.iloc[:,k]:\n",
        "    ss+=int(i)\n",
        "  return ss\n",
        "a=summ(1)\n",
        "b=summ(2)\n",
        "c=summ(3)\n",
        "d=summ(4)\n",
        "e=summ(5)\n",
        "df2.loc[60]=['2020.08.28',a,b,c,d,e]\n",
        "print(df2)\n",
        "\n",
        "\n"
      ],
      "execution_count": 15,
      "outputs": [
        {
          "output_type": "stream",
          "text": [
            "            구분        어리목         영실        성판악       관음사      돈내코\n",
            "0     2014년 1월    38438.0    23593.0    63950.0    7769.0   2428.0\n",
            "1     2014년 2월    26338.0    26009.0    39079.0    4497.0   1338.0\n",
            "2     2014년 3월    25865.0    15816.0    29038.0    2476.0   1302.0\n",
            "3     2014년 4월    36917.0    21065.0    33980.0    4017.0    997.0\n",
            "4     2014년 5월    32995.0    30804.0    34533.0    5813.0   1681.0\n",
            "..         ...        ...        ...        ...       ...      ...\n",
            "56    2018년 9월    15534.0    19359.0    21581.0    4289.0    222.0\n",
            "57   2018년 10월    29580.0    36817.0    38166.0    7095.0    622.0\n",
            "58   2018년 11월    21422.0    25068.0    28438.0    7009.0    342.0\n",
            "59   2018년 12월    18264.0    12957.0    18035.0    3494.0    185.0\n",
            "60  2020.08.28  1706936.0  1399515.0  1902546.0  332172.0  39919.0\n",
            "\n",
            "[61 rows x 6 columns]\n"
          ],
          "name": "stdout"
        }
      ]
    }
  ]
}